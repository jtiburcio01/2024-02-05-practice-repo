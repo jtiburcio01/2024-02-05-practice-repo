{
 "cells": [
  {
   "cell_type": "code",
   "execution_count": 3,
   "id": "446b42b1",
   "metadata": {},
   "outputs": [],
   "source": [
    "CHI_m, LA_m, NYC_m, SJ_m = 762, 294, 334, 47"
   ]
  },
  {
   "cell_type": "code",
   "execution_count": 4,
   "id": "6458a6b1",
   "metadata": {},
   "outputs": [],
   "source": [
    "CHI_p, LA_p, NYC_p, SJ_p = 2_705_000, 3_976_000, 8_538_000, 1_025_000"
   ]
  },
  {
   "cell_type": "code",
   "execution_count": 20,
   "id": "aff74adf",
   "metadata": {},
   "outputs": [
    {
     "data": {
      "text/plain": [
       "1025000"
      ]
     },
     "execution_count": 20,
     "metadata": {},
     "output_type": "execute_result"
    }
   ],
   "source": [
    "CHI_m\n",
    "CHI_p\n",
    "LA_m\n",
    "LA_p\n",
    "NYC_m\n",
    "NYC_p\n",
    "SJ_m\n",
    "SJ_p"
   ]
  },
  {
   "cell_type": "code",
   "execution_count": 24,
   "id": "ccc7cb4b",
   "metadata": {},
   "outputs": [
    {
     "data": {
      "text/plain": [
       "28.170055452865068"
      ]
     },
     "execution_count": 24,
     "metadata": {},
     "output_type": "execute_result"
    }
   ],
   "source": [
    "(CHI_m/CHI_p)*100_000"
   ]
  },
  {
   "cell_type": "code",
   "execution_count": 26,
   "id": "fd36cf20",
   "metadata": {},
   "outputs": [
    {
     "data": {
      "text/plain": [
       "7.394366197183098"
      ]
     },
     "execution_count": 26,
     "metadata": {},
     "output_type": "execute_result"
    }
   ],
   "source": [
    "(LA_m/LA_p)*100_000"
   ]
  },
  {
   "cell_type": "code",
   "execution_count": 27,
   "id": "f1f5825f",
   "metadata": {},
   "outputs": [
    {
     "data": {
      "text/plain": [
       "3.911923167018037"
      ]
     },
     "execution_count": 27,
     "metadata": {},
     "output_type": "execute_result"
    }
   ],
   "source": [
    "(NYC_m/NYC_p)*100_000"
   ]
  },
  {
   "cell_type": "code",
   "execution_count": 28,
   "id": "5bb62dfa",
   "metadata": {},
   "outputs": [
    {
     "data": {
      "text/plain": [
       "4.585365853658536"
      ]
     },
     "execution_count": 28,
     "metadata": {},
     "output_type": "execute_result"
    }
   ],
   "source": [
    "(SJ_m/SJ_p)*100_000"
   ]
  },
  {
   "cell_type": "code",
   "execution_count": 32,
   "id": "c67a06a7",
   "metadata": {},
   "outputs": [],
   "source": [
    "CHI_rate=28.2\n",
    "LA_rate=7.4\n",
    "NYC_rate=3.9\n",
    "SJ_rate=4.6"
   ]
  },
  {
   "cell_type": "code",
   "execution_count": 33,
   "id": "ecaec203",
   "metadata": {},
   "outputs": [
    {
     "name": "stdout",
     "output_type": "stream",
     "text": [
      "Chicago has the highest murder rate of 28.2 per 100k, while New York City has the lowest murder rate at 3.9 per 100k.\n"
     ]
    }
   ],
   "source": [
    "print(f\"Chicago has the highest murder rate of {CHI_rate} per 100k, while New York City has the lowest murder rate at {NYC_rate} per 100k.\")"
   ]
  },
  {
   "cell_type": "code",
   "execution_count": null,
   "id": "dd7f8225",
   "metadata": {},
   "outputs": [],
   "source": []
  }
 ],
 "metadata": {
  "kernelspec": {
   "display_name": "Python 3 (ipykernel)",
   "language": "python",
   "name": "python3"
  },
  "language_info": {
   "codemirror_mode": {
    "name": "ipython",
    "version": 3
   },
   "file_extension": ".py",
   "mimetype": "text/x-python",
   "name": "python",
   "nbconvert_exporter": "python",
   "pygments_lexer": "ipython3",
   "version": "3.11.5"
  }
 },
 "nbformat": 4,
 "nbformat_minor": 5
}
